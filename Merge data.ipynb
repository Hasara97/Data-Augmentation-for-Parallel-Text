{
 "cells": [
  {
   "cell_type": "code",
   "execution_count": 1,
   "id": "f9a956d9",
   "metadata": {},
   "outputs": [],
   "source": [
    "import pandas as pd\n",
    "import os \n",
    "import glob"
   ]
  },
  {
   "cell_type": "code",
   "execution_count": 11,
   "id": "3e8fd526",
   "metadata": {},
   "outputs": [],
   "source": [
    "data = pd.concat(map(pd.read_csv, glob.glob('data/all/*.csv')))"
   ]
  },
  {
   "cell_type": "code",
   "execution_count": 12,
   "id": "72d1b1ee",
   "metadata": {},
   "outputs": [
    {
     "data": {
      "text/plain": [
       "(41400, 3)"
      ]
     },
     "execution_count": 12,
     "metadata": {},
     "output_type": "execute_result"
    }
   ],
   "source": [
    "data.shape"
   ]
  },
  {
   "cell_type": "code",
   "execution_count": 17,
   "id": "c1c7b39c",
   "metadata": {},
   "outputs": [
    {
     "data": {
      "text/html": [
       "<div>\n",
       "<style scoped>\n",
       "    .dataframe tbody tr th:only-of-type {\n",
       "        vertical-align: middle;\n",
       "    }\n",
       "\n",
       "    .dataframe tbody tr th {\n",
       "        vertical-align: top;\n",
       "    }\n",
       "\n",
       "    .dataframe thead th {\n",
       "        text-align: right;\n",
       "    }\n",
       "</style>\n",
       "<table border=\"1\" class=\"dataframe\">\n",
       "  <thead>\n",
       "    <tr style=\"text-align: right;\">\n",
       "      <th></th>\n",
       "      <th>Unnamed: 0</th>\n",
       "      <th>native</th>\n",
       "      <th>roman</th>\n",
       "    </tr>\n",
       "  </thead>\n",
       "  <tbody>\n",
       "    <tr>\n",
       "      <th>0</th>\n",
       "      <td>0</td>\n",
       "      <td>එබැවින් යම් ආකාරයක රැකියාවක් මගේ වැඩ සඳහා උපමා...</td>\n",
       "      <td>ebaevin yam akarayaka raekiyavak mage vaeda sa...</td>\n",
       "    </tr>\n",
       "    <tr>\n",
       "      <th>1</th>\n",
       "      <td>1</td>\n",
       "      <td>මට මගේ විශාල දැල ගැඹුරු ඉංග්‍රීසි සාගරයට විසි ...</td>\n",
       "      <td>mata mage visala daela gaemburu imgrisi sagara...</td>\n",
       "    </tr>\n",
       "    <tr>\n",
       "      <th>2</th>\n",
       "      <td>2</td>\n",
       "      <td>නමුත් මම මාළු අල්ලන්න යාමට කැමති විට මාව ගමනාග...</td>\n",
       "      <td>namut mama malu allanna yamata kaemati vita ma...</td>\n",
       "    </tr>\n",
       "    <tr>\n",
       "      <th>3</th>\n",
       "      <td>3</td>\n",
       "      <td>හොඳයි, මම රැජිනට දොස් පවරමි</td>\n",
       "      <td>hondayi, mama raejinata dos pavarami</td>\n",
       "    </tr>\n",
       "    <tr>\n",
       "      <th>4</th>\n",
       "      <td>4</td>\n",
       "      <td>ඇයි මම රැජිනට දොස් කියන්නේ</td>\n",
       "      <td>aeyi mama raejinata dos kiyanne</td>\n",
       "    </tr>\n",
       "    <tr>\n",
       "      <th>...</th>\n",
       "      <td>...</td>\n",
       "      <td>...</td>\n",
       "      <td>...</td>\n",
       "    </tr>\n",
       "    <tr>\n",
       "      <th>95</th>\n",
       "      <td>95</td>\n",
       "      <td>නමුත් එම එක් සිදුවීමකින් රෝගියා සුවය ලැබීමෙන් ...</td>\n",
       "      <td>namut ema ek siduvimakin rogiya suvaya laebime...</td>\n",
       "    </tr>\n",
       "    <tr>\n",
       "      <th>96</th>\n",
       "      <td>96</td>\n",
       "      <td>එය මාස ගණනාවක් ද බොහෝ විට අවුරුදු ගණනක් ද පවතී...</td>\n",
       "      <td>eya masa gananavak da boho vita avurudu ganana...</td>\n",
       "    </tr>\n",
       "    <tr>\n",
       "      <th>97</th>\n",
       "      <td>97</td>\n",
       "      <td>එය කෙසේ සිදුවේ යැයි අපි සිතන්නේ කෙසේද සහ ඒ ගැන...</td>\n",
       "      <td>eya kese siduve yaeyi api sitanne keseda saha ...</td>\n",
       "    </tr>\n",
       "    <tr>\n",
       "      <th>98</th>\n",
       "      <td>98</td>\n",
       "      <td>ඉතිං හිතන්න, ඔබ කැමති නම්, මම දැන් මේ අත අතගාන...</td>\n",
       "      <td>itim hitanna, oba kaemati nam, mama daen me at...</td>\n",
       "    </tr>\n",
       "    <tr>\n",
       "      <th>99</th>\n",
       "      <td>99</td>\n",
       "      <td>දැන්, මම හිතන්නේ ඔබට මම සිතන්නේ මම මේ සමඟ එය ත...</td>\n",
       "      <td>daen, mama hitanne obata mama sitanne mama me ...</td>\n",
       "    </tr>\n",
       "  </tbody>\n",
       "</table>\n",
       "<p>3500 rows × 3 columns</p>\n",
       "</div>"
      ],
      "text/plain": [
       "    Unnamed: 0                                             native  \\\n",
       "0            0  එබැවින් යම් ආකාරයක රැකියාවක් මගේ වැඩ සඳහා උපමා...   \n",
       "1            1  මට මගේ විශාල දැල ගැඹුරු ඉංග්‍රීසි සාගරයට විසි ...   \n",
       "2            2  නමුත් මම මාළු අල්ලන්න යාමට කැමති විට මාව ගමනාග...   \n",
       "3            3                        හොඳයි, මම රැජිනට දොස් පවරමි   \n",
       "4            4                         ඇයි මම රැජිනට දොස් කියන්නේ   \n",
       "..         ...                                                ...   \n",
       "95          95  නමුත් එම එක් සිදුවීමකින් රෝගියා සුවය ලැබීමෙන් ...   \n",
       "96          96  එය මාස ගණනාවක් ද බොහෝ විට අවුරුදු ගණනක් ද පවතී...   \n",
       "97          97  එය කෙසේ සිදුවේ යැයි අපි සිතන්නේ කෙසේද සහ ඒ ගැන...   \n",
       "98          98  ඉතිං හිතන්න, ඔබ කැමති නම්, මම දැන් මේ අත අතගාන...   \n",
       "99          99  දැන්, මම හිතන්නේ ඔබට මම සිතන්නේ මම මේ සමඟ එය ත...   \n",
       "\n",
       "                                                roman  \n",
       "0   ebaevin yam akarayaka raekiyavak mage vaeda sa...  \n",
       "1   mata mage visala daela gaemburu imgrisi sagara...  \n",
       "2   namut mama malu allanna yamata kaemati vita ma...  \n",
       "3                hondayi, mama raejinata dos pavarami  \n",
       "4                     aeyi mama raejinata dos kiyanne  \n",
       "..                                                ...  \n",
       "95  namut ema ek siduvimakin rogiya suvaya laebime...  \n",
       "96  eya masa gananavak da boho vita avurudu ganana...  \n",
       "97  eya kese siduve yaeyi api sitanne keseda saha ...  \n",
       "98  itim hitanna, oba kaemati nam, mama daen me at...  \n",
       "99  daen, mama hitanne obata mama sitanne mama me ...  \n",
       "\n",
       "[3500 rows x 3 columns]"
      ]
     },
     "execution_count": 17,
     "metadata": {},
     "output_type": "execute_result"
    }
   ],
   "source": [
    "data[1000:4500]"
   ]
  },
  {
   "cell_type": "code",
   "execution_count": 27,
   "id": "ff366a21",
   "metadata": {},
   "outputs": [],
   "source": [
    "language_pairs = data[['native','roman']]"
   ]
  },
  {
   "cell_type": "code",
   "execution_count": 28,
   "id": "4687ab3e",
   "metadata": {},
   "outputs": [
    {
     "data": {
      "text/html": [
       "<div>\n",
       "<style scoped>\n",
       "    .dataframe tbody tr th:only-of-type {\n",
       "        vertical-align: middle;\n",
       "    }\n",
       "\n",
       "    .dataframe tbody tr th {\n",
       "        vertical-align: top;\n",
       "    }\n",
       "\n",
       "    .dataframe thead th {\n",
       "        text-align: right;\n",
       "    }\n",
       "</style>\n",
       "<table border=\"1\" class=\"dataframe\">\n",
       "  <thead>\n",
       "    <tr style=\"text-align: right;\">\n",
       "      <th></th>\n",
       "      <th>native</th>\n",
       "      <th>roman</th>\n",
       "    </tr>\n",
       "  </thead>\n",
       "  <tbody>\n",
       "    <tr>\n",
       "      <th>0</th>\n",
       "      <td>රැචල් පයික්: දේශගුණික ශීර්ෂ පාඨයක් පිටුපස ඇති ...</td>\n",
       "      <td>raecal payik: desagunika sirsa pathayak pitupa...</td>\n",
       "    </tr>\n",
       "    <tr>\n",
       "      <th>1</th>\n",
       "      <td>දේශගුණික විපර්යාසයන් පිළිබඳ නිර්භීත මාතෘකා පිට...</td>\n",
       "      <td>desagunika viparyasayan pilibanda nirbhita mat...</td>\n",
       "    </tr>\n",
       "    <tr>\n",
       "      <th>2</th>\n",
       "      <td>පුවත්පතේ ඔබ දකින සිරස්තල සෑදීමට ගෙන යන විද්‍යා...</td>\n",
       "      <td>puvatpate oba dakina sirastala saedimata gena ...</td>\n",
       "    </tr>\n",
       "    <tr>\n",
       "      <th>3</th>\n",
       "      <td>දේශගුණික විපර්යාස සමඟ සම්බන්ධ වන විට මේ ආකාරයට...</td>\n",
       "      <td>desagunika viparyasa samanga sambandha vana vi...</td>\n",
       "    </tr>\n",
       "    <tr>\n",
       "      <th>4</th>\n",
       "      <td>ඔවුන් දෙදෙනාම එකම වායුගෝලීය විද්‍යා ක්ෂේත්‍රයේ...</td>\n",
       "      <td>ovun dedenama ekama vayugoliya vidya ksetraye ...</td>\n",
       "    </tr>\n",
       "    <tr>\n",
       "      <th>...</th>\n",
       "      <td>...</td>\n",
       "      <td>...</td>\n",
       "    </tr>\n",
       "    <tr>\n",
       "      <th>95</th>\n",
       "      <td>කෙවින් බ්‍රීල්: මානසික අවපීඩනයෙන් පෙළුණු කොමිය...</td>\n",
       "      <td>kevin bril: manasika avapidanayen pelunu komiy...</td>\n",
       "    </tr>\n",
       "    <tr>\n",
       "      <th>96</th>\n",
       "      <td>කෙවින් බ්‍රීල් මානසික අවපීඩනයෙන් පෙළුණු ළමයෙකු...</td>\n",
       "      <td>kevin bril manasika avapidanayen pelunu lamaye...</td>\n",
       "    </tr>\n",
       "    <tr>\n",
       "      <th>97</th>\n",
       "      <td>මගේ ජීවිතයේ දීර්ඝ කාලයක් තිස්සේ මට දැනුනේ මම ව...</td>\n",
       "      <td>mage jivitaye dirgha kalayak tisse mata daenun...</td>\n",
       "    </tr>\n",
       "    <tr>\n",
       "      <th>98</th>\n",
       "      <td>සෑම කෙනෙකුම දකින ජීවිතයක් ඇත, පසුව මම පමණක් දක...</td>\n",
       "      <td>saema kenekuma dakina jivitayak aeta, pasuva m...</td>\n",
       "    </tr>\n",
       "    <tr>\n",
       "      <th>99</th>\n",
       "      <td>සෑම කෙනෙකුම දකින ජීවිතයේ, මම කවුරුන්ද, මම මිතු...</td>\n",
       "      <td>saema kenekuma dakina jivitaye, mama kavurunda...</td>\n",
       "    </tr>\n",
       "  </tbody>\n",
       "</table>\n",
       "<p>41400 rows × 2 columns</p>\n",
       "</div>"
      ],
      "text/plain": [
       "                                               native  \\\n",
       "0   රැචල් පයික්: දේශගුණික ශීර්ෂ පාඨයක් පිටුපස ඇති ...   \n",
       "1   දේශගුණික විපර්යාසයන් පිළිබඳ නිර්භීත මාතෘකා පිට...   \n",
       "2   පුවත්පතේ ඔබ දකින සිරස්තල සෑදීමට ගෙන යන විද්‍යා...   \n",
       "3   දේශගුණික විපර්යාස සමඟ සම්බන්ධ වන විට මේ ආකාරයට...   \n",
       "4   ඔවුන් දෙදෙනාම එකම වායුගෝලීය විද්‍යා ක්ෂේත්‍රයේ...   \n",
       "..                                                ...   \n",
       "95  කෙවින් බ්‍රීල්: මානසික අවපීඩනයෙන් පෙළුණු කොමිය...   \n",
       "96  කෙවින් බ්‍රීල් මානසික අවපීඩනයෙන් පෙළුණු ළමයෙකු...   \n",
       "97  මගේ ජීවිතයේ දීර්ඝ කාලයක් තිස්සේ මට දැනුනේ මම ව...   \n",
       "98  සෑම කෙනෙකුම දකින ජීවිතයක් ඇත, පසුව මම පමණක් දක...   \n",
       "99  සෑම කෙනෙකුම දකින ජීවිතයේ, මම කවුරුන්ද, මම මිතු...   \n",
       "\n",
       "                                                roman  \n",
       "0   raecal payik: desagunika sirsa pathayak pitupa...  \n",
       "1   desagunika viparyasayan pilibanda nirbhita mat...  \n",
       "2   puvatpate oba dakina sirastala saedimata gena ...  \n",
       "3   desagunika viparyasa samanga sambandha vana vi...  \n",
       "4   ovun dedenama ekama vayugoliya vidya ksetraye ...  \n",
       "..                                                ...  \n",
       "95  kevin bril: manasika avapidanayen pelunu komiy...  \n",
       "96  kevin bril manasika avapidanayen pelunu lamaye...  \n",
       "97  mage jivitaye dirgha kalayak tisse mata daenun...  \n",
       "98  saema kenekuma dakina jivitayak aeta, pasuva m...  \n",
       "99  saema kenekuma dakina jivitaye, mama kavurunda...  \n",
       "\n",
       "[41400 rows x 2 columns]"
      ]
     },
     "execution_count": 28,
     "metadata": {},
     "output_type": "execute_result"
    }
   ],
   "source": [
    "language_pairs"
   ]
  },
  {
   "cell_type": "code",
   "execution_count": 29,
   "id": "9e7e612f",
   "metadata": {},
   "outputs": [
    {
     "data": {
      "text/plain": [
       "(41400, 2)"
      ]
     },
     "execution_count": 29,
     "metadata": {},
     "output_type": "execute_result"
    }
   ],
   "source": [
    "language_pairs.shape"
   ]
  },
  {
   "cell_type": "code",
   "execution_count": 30,
   "id": "0cf3d569",
   "metadata": {},
   "outputs": [],
   "source": [
    "language_pairs.to_csv('language_pairs.csv')"
   ]
  },
  {
   "cell_type": "code",
   "execution_count": 2,
   "id": "8458c9b8",
   "metadata": {},
   "outputs": [],
   "source": [
    "language_pairs = pd.read_csv(\"language_pairs.csv\")"
   ]
  },
  {
   "cell_type": "code",
   "execution_count": 4,
   "id": "de6b2f8a",
   "metadata": {},
   "outputs": [
    {
     "data": {
      "text/plain": [
       "(41400, 3)"
      ]
     },
     "execution_count": 4,
     "metadata": {},
     "output_type": "execute_result"
    }
   ],
   "source": [
    "language_pairs.shape"
   ]
  },
  {
   "cell_type": "code",
   "execution_count": 5,
   "id": "327ec909",
   "metadata": {},
   "outputs": [
    {
     "data": {
      "text/html": [
       "<div>\n",
       "<style scoped>\n",
       "    .dataframe tbody tr th:only-of-type {\n",
       "        vertical-align: middle;\n",
       "    }\n",
       "\n",
       "    .dataframe tbody tr th {\n",
       "        vertical-align: top;\n",
       "    }\n",
       "\n",
       "    .dataframe thead th {\n",
       "        text-align: right;\n",
       "    }\n",
       "</style>\n",
       "<table border=\"1\" class=\"dataframe\">\n",
       "  <thead>\n",
       "    <tr style=\"text-align: right;\">\n",
       "      <th></th>\n",
       "      <th>Unnamed: 0</th>\n",
       "      <th>native</th>\n",
       "      <th>roman</th>\n",
       "    </tr>\n",
       "  </thead>\n",
       "  <tbody>\n",
       "    <tr>\n",
       "      <th>0</th>\n",
       "      <td>0</td>\n",
       "      <td>රැචල් පයික්: දේශගුණික ශීර්ෂ පාඨයක් පිටුපස ඇති ...</td>\n",
       "      <td>raecal payik: desagunika sirsa pathayak pitupa...</td>\n",
       "    </tr>\n",
       "    <tr>\n",
       "      <th>1</th>\n",
       "      <td>1</td>\n",
       "      <td>දේශගුණික විපර්යාසයන් පිළිබඳ නිර්භීත මාතෘකා පිට...</td>\n",
       "      <td>desagunika viparyasayan pilibanda nirbhita mat...</td>\n",
       "    </tr>\n",
       "    <tr>\n",
       "      <th>2</th>\n",
       "      <td>2</td>\n",
       "      <td>පුවත්පතේ ඔබ දකින සිරස්තල සෑදීමට ගෙන යන විද්‍යා...</td>\n",
       "      <td>puvatpate oba dakina sirastala saedimata gena ...</td>\n",
       "    </tr>\n",
       "    <tr>\n",
       "      <th>3</th>\n",
       "      <td>3</td>\n",
       "      <td>දේශගුණික විපර්යාස සමඟ සම්බන්ධ වන විට මේ ආකාරයට...</td>\n",
       "      <td>desagunika viparyasa samanga sambandha vana vi...</td>\n",
       "    </tr>\n",
       "    <tr>\n",
       "      <th>4</th>\n",
       "      <td>4</td>\n",
       "      <td>ඔවුන් දෙදෙනාම එකම වායුගෝලීය විද්‍යා ක්ෂේත්‍රයේ...</td>\n",
       "      <td>ovun dedenama ekama vayugoliya vidya ksetraye ...</td>\n",
       "    </tr>\n",
       "    <tr>\n",
       "      <th>...</th>\n",
       "      <td>...</td>\n",
       "      <td>...</td>\n",
       "      <td>...</td>\n",
       "    </tr>\n",
       "    <tr>\n",
       "      <th>41395</th>\n",
       "      <td>95</td>\n",
       "      <td>කෙවින් බ්‍රීල්: මානසික අවපීඩනයෙන් පෙළුණු කොමිය...</td>\n",
       "      <td>kevin bril: manasika avapidanayen pelunu komiy...</td>\n",
       "    </tr>\n",
       "    <tr>\n",
       "      <th>41396</th>\n",
       "      <td>96</td>\n",
       "      <td>කෙවින් බ්‍රීල් මානසික අවපීඩනයෙන් පෙළුණු ළමයෙකු...</td>\n",
       "      <td>kevin bril manasika avapidanayen pelunu lamaye...</td>\n",
       "    </tr>\n",
       "    <tr>\n",
       "      <th>41397</th>\n",
       "      <td>97</td>\n",
       "      <td>මගේ ජීවිතයේ දීර්ඝ කාලයක් තිස්සේ මට දැනුනේ මම ව...</td>\n",
       "      <td>mage jivitaye dirgha kalayak tisse mata daenun...</td>\n",
       "    </tr>\n",
       "    <tr>\n",
       "      <th>41398</th>\n",
       "      <td>98</td>\n",
       "      <td>සෑම කෙනෙකුම දකින ජීවිතයක් ඇත, පසුව මම පමණක් දක...</td>\n",
       "      <td>saema kenekuma dakina jivitayak aeta, pasuva m...</td>\n",
       "    </tr>\n",
       "    <tr>\n",
       "      <th>41399</th>\n",
       "      <td>99</td>\n",
       "      <td>සෑම කෙනෙකුම දකින ජීවිතයේ, මම කවුරුන්ද, මම මිතු...</td>\n",
       "      <td>saema kenekuma dakina jivitaye, mama kavurunda...</td>\n",
       "    </tr>\n",
       "  </tbody>\n",
       "</table>\n",
       "<p>41400 rows × 3 columns</p>\n",
       "</div>"
      ],
      "text/plain": [
       "       Unnamed: 0                                             native  \\\n",
       "0               0  රැචල් පයික්: දේශගුණික ශීර්ෂ පාඨයක් පිටුපස ඇති ...   \n",
       "1               1  දේශගුණික විපර්යාසයන් පිළිබඳ නිර්භීත මාතෘකා පිට...   \n",
       "2               2  පුවත්පතේ ඔබ දකින සිරස්තල සෑදීමට ගෙන යන විද්‍යා...   \n",
       "3               3  දේශගුණික විපර්යාස සමඟ සම්බන්ධ වන විට මේ ආකාරයට...   \n",
       "4               4  ඔවුන් දෙදෙනාම එකම වායුගෝලීය විද්‍යා ක්ෂේත්‍රයේ...   \n",
       "...           ...                                                ...   \n",
       "41395          95  කෙවින් බ්‍රීල්: මානසික අවපීඩනයෙන් පෙළුණු කොමිය...   \n",
       "41396          96  කෙවින් බ්‍රීල් මානසික අවපීඩනයෙන් පෙළුණු ළමයෙකු...   \n",
       "41397          97  මගේ ජීවිතයේ දීර්ඝ කාලයක් තිස්සේ මට දැනුනේ මම ව...   \n",
       "41398          98  සෑම කෙනෙකුම දකින ජීවිතයක් ඇත, පසුව මම පමණක් දක...   \n",
       "41399          99  සෑම කෙනෙකුම දකින ජීවිතයේ, මම කවුරුන්ද, මම මිතු...   \n",
       "\n",
       "                                                   roman  \n",
       "0      raecal payik: desagunika sirsa pathayak pitupa...  \n",
       "1      desagunika viparyasayan pilibanda nirbhita mat...  \n",
       "2      puvatpate oba dakina sirastala saedimata gena ...  \n",
       "3      desagunika viparyasa samanga sambandha vana vi...  \n",
       "4      ovun dedenama ekama vayugoliya vidya ksetraye ...  \n",
       "...                                                  ...  \n",
       "41395  kevin bril: manasika avapidanayen pelunu komiy...  \n",
       "41396  kevin bril manasika avapidanayen pelunu lamaye...  \n",
       "41397  mage jivitaye dirgha kalayak tisse mata daenun...  \n",
       "41398  saema kenekuma dakina jivitayak aeta, pasuva m...  \n",
       "41399  saema kenekuma dakina jivitaye, mama kavurunda...  \n",
       "\n",
       "[41400 rows x 3 columns]"
      ]
     },
     "execution_count": 5,
     "metadata": {},
     "output_type": "execute_result"
    }
   ],
   "source": [
    "language_pairs"
   ]
  },
  {
   "cell_type": "code",
   "execution_count": null,
   "id": "1c9788a8",
   "metadata": {},
   "outputs": [],
   "source": []
  }
 ],
 "metadata": {
  "kernelspec": {
   "display_name": "Python 3",
   "language": "python",
   "name": "python3"
  },
  "language_info": {
   "codemirror_mode": {
    "name": "ipython",
    "version": 3
   },
   "file_extension": ".py",
   "mimetype": "text/x-python",
   "name": "python",
   "nbconvert_exporter": "python",
   "pygments_lexer": "ipython3",
   "version": "3.6.8"
  }
 },
 "nbformat": 4,
 "nbformat_minor": 5
}
