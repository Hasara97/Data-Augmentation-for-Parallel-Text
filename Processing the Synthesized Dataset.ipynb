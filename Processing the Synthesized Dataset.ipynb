{
 "cells": [
  {
   "cell_type": "code",
   "execution_count": 200,
   "id": "11558daf",
   "metadata": {},
   "outputs": [],
   "source": [
    "import pandas as pd\n",
    "import os\n",
    "import pickle\n",
    "from wordcloud import WordCloud\n",
    "import matplotlib.pyplot as plt\n",
    "import seaborn as sns\n",
    "import string\n",
    "import re \n",
    "import unidecode\n",
    "import googletrans "
   ]
  },
  {
   "cell_type": "code",
   "execution_count": 1,
   "id": "01ac134c",
   "metadata": {},
   "outputs": [],
   "source": [
    "def load_data(path):\n",
    "    \"\"\"\n",
    "    Load dataset\n",
    "    \"\"\"\n",
    "    input_file = os.path.join(path)\n",
    "    with open(input_file, \"r\", encoding=\"utf-8\") as f:\n",
    "        data = f.read()\n",
    "\n",
    "    return data.split('\\n')"
   ]
  },
  {
   "cell_type": "code",
   "execution_count": 209,
   "id": "f3fc36fc",
   "metadata": {},
   "outputs": [],
   "source": [
    "eng_sen = load_data('data/train.en')"
   ]
  },
  {
   "cell_type": "code",
   "execution_count": 211,
   "id": "e8e9b888",
   "metadata": {},
   "outputs": [
    {
     "data": {
      "text/plain": [
       "128621"
      ]
     },
     "execution_count": 211,
     "metadata": {},
     "output_type": "execute_result"
    }
   ],
   "source": [
    "len(eng_sen)"
   ]
  },
  {
   "cell_type": "code",
   "execution_count": 212,
   "id": "d2090067",
   "metadata": {},
   "outputs": [
    {
     "data": {
      "text/plain": [
       "'I have one of my own secrets in every book '"
      ]
     },
     "execution_count": 212,
     "metadata": {},
     "output_type": "execute_result"
    }
   ],
   "source": [
    "eng_sen[1745]"
   ]
  },
  {
   "cell_type": "code",
   "execution_count": 213,
   "id": "aa5ba5af",
   "metadata": {},
   "outputs": [
    {
     "name": "stdout",
     "output_type": "stream",
     "text": [
      "9399\n"
     ]
    }
   ],
   "source": [
    " print(sum(len(i) for i in eng_sen[30600:30700]))"
   ]
  },
  {
   "cell_type": "code",
   "execution_count": 217,
   "id": "43b9cf8b",
   "metadata": {},
   "outputs": [],
   "source": [
    "from googletrans import Translator\n",
    "\n",
    "translator = Translator()\n",
    "\n",
    "def synthetize_dataset(list):\n",
    "    native_scripts = []\n",
    "    roman_scripts = []\n",
    "    roman_scripts_cleaned = []\n",
    "    for sentence in list:\n",
    "        \n",
    "        sentence_trans = translator.translate(sentence, dest='si')\n",
    "        native_scripts.append(sentence_trans.text)\n",
    "        roman_scripts.append(sentence_trans.pronunciation)\n",
    "        roman_scripts_cleaned.append(unidecode.unidecode(sentence_trans.pronunciation))\n",
    "    \n",
    "    return native_scripts, roman_scripts_cleaned\n",
    "\n",
    "\n",
    "\n"
   ]
  },
  {
   "cell_type": "code",
   "execution_count": 2,
   "id": "363b90be",
   "metadata": {},
   "outputs": [],
   "source": [
    "native_scripts_1, roman_scripts_1 = synthetize_dataset(eng_sen[4200:4300])"
   ]
  },
  {
   "cell_type": "code",
   "execution_count": null,
   "id": "4520528d",
   "metadata": {},
   "outputs": [],
   "source": [
    "native_scripts_1[4]"
   ]
  },
  {
   "cell_type": "code",
   "execution_count": 199,
   "id": "cac32460",
   "metadata": {},
   "outputs": [
    {
     "data": {
      "text/plain": [
       "'baelu baelmata penena paridi oba akarsanaya vanne kavurunda yanna vaeni bahira ha drsyamana de gaena vuvada, oba karanne eya bava nodaena oba vata sitina minisunge visvasayan anuvartanaya vimata patan gani.'"
      ]
     },
     "execution_count": 199,
     "metadata": {},
     "output_type": "execute_result"
    }
   ],
   "source": [
    "roman_scripts_1[4]"
   ]
  },
  {
   "cell_type": "code",
   "execution_count": 175,
   "id": "20778ca2",
   "metadata": {},
   "outputs": [
    {
     "data": {
      "text/plain": [
       "100"
      ]
     },
     "execution_count": 175,
     "metadata": {},
     "output_type": "execute_result"
    }
   ],
   "source": [
    "len(native_scripts_1)"
   ]
  },
  {
   "cell_type": "code",
   "execution_count": 176,
   "id": "2530a668",
   "metadata": {},
   "outputs": [
    {
     "data": {
      "text/plain": [
       "100"
      ]
     },
     "execution_count": 176,
     "metadata": {},
     "output_type": "execute_result"
    }
   ],
   "source": [
    "len(roman_scripts_1)"
   ]
  },
  {
   "cell_type": "code",
   "execution_count": 177,
   "id": "65cffe69",
   "metadata": {},
   "outputs": [],
   "source": [
    "roman_sen_df = pd.DataFrame(roman_scripts_1, columns=[\"roman\"])"
   ]
  },
  {
   "cell_type": "code",
   "execution_count": 178,
   "id": "21a4d2e2",
   "metadata": {},
   "outputs": [],
   "source": [
    "native_sen_df = pd.DataFrame(native_scripts_1, columns=[\"native\"])"
   ]
  },
  {
   "cell_type": "code",
   "execution_count": 179,
   "id": "79435ae5",
   "metadata": {},
   "outputs": [
    {
     "data": {
      "text/html": [
       "<div>\n",
       "<style scoped>\n",
       "    .dataframe tbody tr th:only-of-type {\n",
       "        vertical-align: middle;\n",
       "    }\n",
       "\n",
       "    .dataframe tbody tr th {\n",
       "        vertical-align: top;\n",
       "    }\n",
       "\n",
       "    .dataframe thead th {\n",
       "        text-align: right;\n",
       "    }\n",
       "</style>\n",
       "<table border=\"1\" class=\"dataframe\">\n",
       "  <thead>\n",
       "    <tr style=\"text-align: right;\">\n",
       "      <th></th>\n",
       "      <th>roman</th>\n",
       "    </tr>\n",
       "  </thead>\n",
       "  <tbody>\n",
       "    <tr>\n",
       "      <th>0</th>\n",
       "      <td>apata amutu lesa eya amataka vimata patan gatt...</td>\n",
       "    </tr>\n",
       "    <tr>\n",
       "      <th>1</th>\n",
       "      <td>ebaevin palukarayak naeta, helidarav kirimak n...</td>\n",
       "    </tr>\n",
       "    <tr>\n",
       "      <th>2</th>\n",
       "      <td>samakalina mano vidyava pilibanda avabodhaya d...</td>\n",
       "    </tr>\n",
       "    <tr>\n",
       "      <th>3</th>\n",
       "      <td>ovunge adahas anukaranaya karamin sahajayenma ...</td>\n",
       "    </tr>\n",
       "    <tr>\n",
       "      <th>4</th>\n",
       "      <td>baelu baelmata penena paridi oba akarsanaya va...</td>\n",
       "    </tr>\n",
       "    <tr>\n",
       "      <th>...</th>\n",
       "      <td>...</td>\n",
       "    </tr>\n",
       "    <tr>\n",
       "      <th>95</th>\n",
       "      <td>mama yauvanayek vu atara, 15 ho 16 di, mama si...</td>\n",
       "    </tr>\n",
       "    <tr>\n",
       "      <th>96</th>\n",
       "      <td>e nisa, mama hima valata lissa yama saha sulam...</td>\n",
       "    </tr>\n",
       "    <tr>\n",
       "      <th>97</th>\n",
       "      <td>eva svitsarlantaye ayahapat kalagunayen gaelav...</td>\n",
       "    </tr>\n",
       "    <tr>\n",
       "      <th>98</th>\n",
       "      <td>itin, mama me deke ekatuvak nirmanaya kalemi: ...</td>\n",
       "    </tr>\n",
       "    <tr>\n",
       "      <th>99</th>\n",
       "      <td>eya aettenma mara ugulak, mama kivve, eya aeda...</td>\n",
       "    </tr>\n",
       "  </tbody>\n",
       "</table>\n",
       "<p>100 rows × 1 columns</p>\n",
       "</div>"
      ],
      "text/plain": [
       "                                                roman\n",
       "0   apata amutu lesa eya amataka vimata patan gatt...\n",
       "1   ebaevin palukarayak naeta, helidarav kirimak n...\n",
       "2   samakalina mano vidyava pilibanda avabodhaya d...\n",
       "3   ovunge adahas anukaranaya karamin sahajayenma ...\n",
       "4   baelu baelmata penena paridi oba akarsanaya va...\n",
       "..                                                ...\n",
       "95  mama yauvanayek vu atara, 15 ho 16 di, mama si...\n",
       "96  e nisa, mama hima valata lissa yama saha sulam...\n",
       "97  eva svitsarlantaye ayahapat kalagunayen gaelav...\n",
       "98  itin, mama me deke ekatuvak nirmanaya kalemi: ...\n",
       "99  eya aettenma mara ugulak, mama kivve, eya aeda...\n",
       "\n",
       "[100 rows x 1 columns]"
      ]
     },
     "execution_count": 179,
     "metadata": {},
     "output_type": "execute_result"
    }
   ],
   "source": [
    "roman_sen_df"
   ]
  },
  {
   "cell_type": "code",
   "execution_count": 180,
   "id": "f38d5c75",
   "metadata": {},
   "outputs": [
    {
     "data": {
      "text/html": [
       "<div>\n",
       "<style scoped>\n",
       "    .dataframe tbody tr th:only-of-type {\n",
       "        vertical-align: middle;\n",
       "    }\n",
       "\n",
       "    .dataframe tbody tr th {\n",
       "        vertical-align: top;\n",
       "    }\n",
       "\n",
       "    .dataframe thead th {\n",
       "        text-align: right;\n",
       "    }\n",
       "</style>\n",
       "<table border=\"1\" class=\"dataframe\">\n",
       "  <thead>\n",
       "    <tr style=\"text-align: right;\">\n",
       "      <th></th>\n",
       "      <th>native</th>\n",
       "    </tr>\n",
       "  </thead>\n",
       "  <tbody>\n",
       "    <tr>\n",
       "      <th>0</th>\n",
       "      <td>අපට අමුතු ලෙස එය අමතක වීමට පටන් ගත්තේ මෑතකදී ය</td>\n",
       "    </tr>\n",
       "    <tr>\n",
       "      <th>1</th>\n",
       "      <td>එබැවින් පාළුකරයක් නැත, හෙළිදරව් කිරීමක් නැත</td>\n",
       "    </tr>\n",
       "    <tr>\n",
       "      <th>2</th>\n",
       "      <td>සමකාලීන මනෝ විද්‍යාව පිළිබඳ අවබෝධය දෙස බැලුවද ...</td>\n",
       "    </tr>\n",
       "    <tr>\n",
       "      <th>3</th>\n",
       "      <td>ඔවුන්ගේ අදහස් අනුකරණය කරමින් සහජයෙන්ම කැඩපතකින...</td>\n",
       "    </tr>\n",
       "    <tr>\n",
       "      <th>4</th>\n",
       "      <td>බැලූ බැල්මට පෙනෙන පරිදි ඔබ ආකර්ෂණය වන්නේ කවුරු...</td>\n",
       "    </tr>\n",
       "    <tr>\n",
       "      <th>...</th>\n",
       "      <td>...</td>\n",
       "    </tr>\n",
       "    <tr>\n",
       "      <th>95</th>\n",
       "      <td>මම යෞවනයෙක් වූ අතර, 15 හෝ 16 දී, මම සිතන්නේ සෑ...</td>\n",
       "    </tr>\n",
       "    <tr>\n",
       "      <th>96</th>\n",
       "      <td>ඒ නිසා, මම හිම වලට ලිස්සා යාම සහ සුළං සැරිසැරී...</td>\n",
       "    </tr>\n",
       "    <tr>\n",
       "      <th>97</th>\n",
       "      <td>ඒවා ස්විට්සර්ලන්තයේ අයහපත් කාලගුණයෙන් ගැලවීමකි</td>\n",
       "    </tr>\n",
       "    <tr>\n",
       "      <th>98</th>\n",
       "      <td>ඉතින්, මම මේ දෙකේ එකතුවක් නිර්මාණය කළෙමි: මම ම...</td>\n",
       "    </tr>\n",
       "    <tr>\n",
       "      <th>99</th>\n",
       "      <td>එය ඇත්තෙන්ම මර උගුලක්, මම කිව්වේ, එය ඇදහිය නොහ...</td>\n",
       "    </tr>\n",
       "  </tbody>\n",
       "</table>\n",
       "<p>100 rows × 1 columns</p>\n",
       "</div>"
      ],
      "text/plain": [
       "                                               native\n",
       "0      අපට අමුතු ලෙස එය අමතක වීමට පටන් ගත්තේ මෑතකදී ය\n",
       "1         එබැවින් පාළුකරයක් නැත, හෙළිදරව් කිරීමක් නැත\n",
       "2   සමකාලීන මනෝ විද්‍යාව පිළිබඳ අවබෝධය දෙස බැලුවද ...\n",
       "3   ඔවුන්ගේ අදහස් අනුකරණය කරමින් සහජයෙන්ම කැඩපතකින...\n",
       "4   බැලූ බැල්මට පෙනෙන පරිදි ඔබ ආකර්ෂණය වන්නේ කවුරු...\n",
       "..                                                ...\n",
       "95  මම යෞවනයෙක් වූ අතර, 15 හෝ 16 දී, මම සිතන්නේ සෑ...\n",
       "96  ඒ නිසා, මම හිම වලට ලිස්සා යාම සහ සුළං සැරිසැරී...\n",
       "97     ඒවා ස්විට්සර්ලන්තයේ අයහපත් කාලගුණයෙන් ගැලවීමකි\n",
       "98  ඉතින්, මම මේ දෙකේ එකතුවක් නිර්මාණය කළෙමි: මම ම...\n",
       "99  එය ඇත්තෙන්ම මර උගුලක්, මම කිව්වේ, එය ඇදහිය නොහ...\n",
       "\n",
       "[100 rows x 1 columns]"
      ]
     },
     "execution_count": 180,
     "metadata": {},
     "output_type": "execute_result"
    }
   ],
   "source": [
    "native_sen_df"
   ]
  },
  {
   "cell_type": "code",
   "execution_count": 186,
   "id": "f00e1db9",
   "metadata": {},
   "outputs": [],
   "source": [
    "language_pairs_1 = pd.concat([native_sen_df, roman_sen_df], axis=1, join=\"inner\")"
   ]
  },
  {
   "cell_type": "code",
   "execution_count": 187,
   "id": "4baa4abb",
   "metadata": {},
   "outputs": [
    {
     "data": {
      "text/html": [
       "<div>\n",
       "<style scoped>\n",
       "    .dataframe tbody tr th:only-of-type {\n",
       "        vertical-align: middle;\n",
       "    }\n",
       "\n",
       "    .dataframe tbody tr th {\n",
       "        vertical-align: top;\n",
       "    }\n",
       "\n",
       "    .dataframe thead th {\n",
       "        text-align: right;\n",
       "    }\n",
       "</style>\n",
       "<table border=\"1\" class=\"dataframe\">\n",
       "  <thead>\n",
       "    <tr style=\"text-align: right;\">\n",
       "      <th></th>\n",
       "      <th>native</th>\n",
       "      <th>roman</th>\n",
       "    </tr>\n",
       "  </thead>\n",
       "  <tbody>\n",
       "    <tr>\n",
       "      <th>0</th>\n",
       "      <td>අපට අමුතු ලෙස එය අමතක වීමට පටන් ගත්තේ මෑතකදී ය</td>\n",
       "      <td>apata amutu lesa eya amataka vimata patan gatt...</td>\n",
       "    </tr>\n",
       "    <tr>\n",
       "      <th>1</th>\n",
       "      <td>එබැවින් පාළුකරයක් නැත, හෙළිදරව් කිරීමක් නැත</td>\n",
       "      <td>ebaevin palukarayak naeta, helidarav kirimak n...</td>\n",
       "    </tr>\n",
       "    <tr>\n",
       "      <th>2</th>\n",
       "      <td>සමකාලීන මනෝ විද්‍යාව පිළිබඳ අවබෝධය දෙස බැලුවද ...</td>\n",
       "      <td>samakalina mano vidyava pilibanda avabodhaya d...</td>\n",
       "    </tr>\n",
       "    <tr>\n",
       "      <th>3</th>\n",
       "      <td>ඔවුන්ගේ අදහස් අනුකරණය කරමින් සහජයෙන්ම කැඩපතකින...</td>\n",
       "      <td>ovunge adahas anukaranaya karamin sahajayenma ...</td>\n",
       "    </tr>\n",
       "    <tr>\n",
       "      <th>4</th>\n",
       "      <td>බැලූ බැල්මට පෙනෙන පරිදි ඔබ ආකර්ෂණය වන්නේ කවුරු...</td>\n",
       "      <td>baelu baelmata penena paridi oba akarsanaya va...</td>\n",
       "    </tr>\n",
       "    <tr>\n",
       "      <th>...</th>\n",
       "      <td>...</td>\n",
       "      <td>...</td>\n",
       "    </tr>\n",
       "    <tr>\n",
       "      <th>95</th>\n",
       "      <td>මම යෞවනයෙක් වූ අතර, 15 හෝ 16 දී, මම සිතන්නේ සෑ...</td>\n",
       "      <td>mama yauvanayek vu atara, 15 ho 16 di, mama si...</td>\n",
       "    </tr>\n",
       "    <tr>\n",
       "      <th>96</th>\n",
       "      <td>ඒ නිසා, මම හිම වලට ලිස්සා යාම සහ සුළං සැරිසැරී...</td>\n",
       "      <td>e nisa, mama hima valata lissa yama saha sulam...</td>\n",
       "    </tr>\n",
       "    <tr>\n",
       "      <th>97</th>\n",
       "      <td>ඒවා ස්විට්සර්ලන්තයේ අයහපත් කාලගුණයෙන් ගැලවීමකි</td>\n",
       "      <td>eva svitsarlantaye ayahapat kalagunayen gaelav...</td>\n",
       "    </tr>\n",
       "    <tr>\n",
       "      <th>98</th>\n",
       "      <td>ඉතින්, මම මේ දෙකේ එකතුවක් නිර්මාණය කළෙමි: මම ම...</td>\n",
       "      <td>itin, mama me deke ekatuvak nirmanaya kalemi: ...</td>\n",
       "    </tr>\n",
       "    <tr>\n",
       "      <th>99</th>\n",
       "      <td>එය ඇත්තෙන්ම මර උගුලක්, මම කිව්වේ, එය ඇදහිය නොහ...</td>\n",
       "      <td>eya aettenma mara ugulak, mama kivve, eya aeda...</td>\n",
       "    </tr>\n",
       "  </tbody>\n",
       "</table>\n",
       "<p>100 rows × 2 columns</p>\n",
       "</div>"
      ],
      "text/plain": [
       "                                               native  \\\n",
       "0      අපට අමුතු ලෙස එය අමතක වීමට පටන් ගත්තේ මෑතකදී ය   \n",
       "1         එබැවින් පාළුකරයක් නැත, හෙළිදරව් කිරීමක් නැත   \n",
       "2   සමකාලීන මනෝ විද්‍යාව පිළිබඳ අවබෝධය දෙස බැලුවද ...   \n",
       "3   ඔවුන්ගේ අදහස් අනුකරණය කරමින් සහජයෙන්ම කැඩපතකින...   \n",
       "4   බැලූ බැල්මට පෙනෙන පරිදි ඔබ ආකර්ෂණය වන්නේ කවුරු...   \n",
       "..                                                ...   \n",
       "95  මම යෞවනයෙක් වූ අතර, 15 හෝ 16 දී, මම සිතන්නේ සෑ...   \n",
       "96  ඒ නිසා, මම හිම වලට ලිස්සා යාම සහ සුළං සැරිසැරී...   \n",
       "97     ඒවා ස්විට්සර්ලන්තයේ අයහපත් කාලගුණයෙන් ගැලවීමකි   \n",
       "98  ඉතින්, මම මේ දෙකේ එකතුවක් නිර්මාණය කළෙමි: මම ම...   \n",
       "99  එය ඇත්තෙන්ම මර උගුලක්, මම කිව්වේ, එය ඇදහිය නොහ...   \n",
       "\n",
       "                                                roman  \n",
       "0   apata amutu lesa eya amataka vimata patan gatt...  \n",
       "1   ebaevin palukarayak naeta, helidarav kirimak n...  \n",
       "2   samakalina mano vidyava pilibanda avabodhaya d...  \n",
       "3   ovunge adahas anukaranaya karamin sahajayenma ...  \n",
       "4   baelu baelmata penena paridi oba akarsanaya va...  \n",
       "..                                                ...  \n",
       "95  mama yauvanayek vu atara, 15 ho 16 di, mama si...  \n",
       "96  e nisa, mama hima valata lissa yama saha sulam...  \n",
       "97  eva svitsarlantaye ayahapat kalagunayen gaelav...  \n",
       "98  itin, mama me deke ekatuvak nirmanaya kalemi: ...  \n",
       "99  eya aettenma mara ugulak, mama kivve, eya aeda...  \n",
       "\n",
       "[100 rows x 2 columns]"
      ]
     },
     "execution_count": 187,
     "metadata": {},
     "output_type": "execute_result"
    }
   ],
   "source": [
    "language_pairs_1"
   ]
  },
  {
   "cell_type": "code",
   "execution_count": 188,
   "id": "55d7b0fc",
   "metadata": {},
   "outputs": [],
   "source": [
    "language_pairs_1.to_csv('bitext/bitext_43.csv')"
   ]
  }
 ],
 "metadata": {
  "kernelspec": {
   "display_name": "Python 3",
   "language": "python",
   "name": "python3"
  },
  "language_info": {
   "codemirror_mode": {
    "name": "ipython",
    "version": 3
   },
   "file_extension": ".py",
   "mimetype": "text/x-python",
   "name": "python",
   "nbconvert_exporter": "python",
   "pygments_lexer": "ipython3",
   "version": "3.6.8"
  }
 },
 "nbformat": 4,
 "nbformat_minor": 5
}
